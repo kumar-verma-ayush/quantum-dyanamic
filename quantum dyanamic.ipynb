{
 "cells": [
  {
   "cell_type": "code",
   "execution_count": 1,
   "id": "42a120e0",
   "metadata": {},
   "outputs": [],
   "source": [
    "import numpy as np\n",
    "import pandas as pd\n",
    "import matplotlib.pyplot as plt\n",
    "from sklearn import metrics\n",
    "%matplotlib inline"
   ]
  },
  {
   "cell_type": "code",
   "execution_count": 2,
   "id": "f7ab61ab",
   "metadata": {},
   "outputs": [],
   "source": [
    "data=pd.read_csv(\"TSLA.csv\")"
   ]
  },
  {
   "cell_type": "code",
   "execution_count": 3,
   "id": "d58982b7",
   "metadata": {},
   "outputs": [
    {
     "data": {
      "text/html": [
       "<div>\n",
       "<style scoped>\n",
       "    .dataframe tbody tr th:only-of-type {\n",
       "        vertical-align: middle;\n",
       "    }\n",
       "\n",
       "    .dataframe tbody tr th {\n",
       "        vertical-align: top;\n",
       "    }\n",
       "\n",
       "    .dataframe thead th {\n",
       "        text-align: right;\n",
       "    }\n",
       "</style>\n",
       "<table border=\"1\" class=\"dataframe\">\n",
       "  <thead>\n",
       "    <tr style=\"text-align: right;\">\n",
       "      <th></th>\n",
       "      <th>Date</th>\n",
       "      <th>Open</th>\n",
       "      <th>High</th>\n",
       "      <th>Low</th>\n",
       "      <th>Close</th>\n",
       "      <th>Adj Close</th>\n",
       "      <th>Volume</th>\n",
       "    </tr>\n",
       "  </thead>\n",
       "  <tbody>\n",
       "    <tr>\n",
       "      <th>0</th>\n",
       "      <td>2010-06-29</td>\n",
       "      <td>19.000000</td>\n",
       "      <td>25.00</td>\n",
       "      <td>17.540001</td>\n",
       "      <td>23.889999</td>\n",
       "      <td>23.889999</td>\n",
       "      <td>18766300</td>\n",
       "    </tr>\n",
       "    <tr>\n",
       "      <th>1</th>\n",
       "      <td>2010-06-30</td>\n",
       "      <td>25.790001</td>\n",
       "      <td>30.42</td>\n",
       "      <td>23.299999</td>\n",
       "      <td>23.830000</td>\n",
       "      <td>23.830000</td>\n",
       "      <td>17187100</td>\n",
       "    </tr>\n",
       "    <tr>\n",
       "      <th>2</th>\n",
       "      <td>2010-07-01</td>\n",
       "      <td>25.000000</td>\n",
       "      <td>25.92</td>\n",
       "      <td>20.270000</td>\n",
       "      <td>21.959999</td>\n",
       "      <td>21.959999</td>\n",
       "      <td>8218800</td>\n",
       "    </tr>\n",
       "    <tr>\n",
       "      <th>3</th>\n",
       "      <td>2010-07-02</td>\n",
       "      <td>23.000000</td>\n",
       "      <td>23.10</td>\n",
       "      <td>18.709999</td>\n",
       "      <td>19.200001</td>\n",
       "      <td>19.200001</td>\n",
       "      <td>5139800</td>\n",
       "    </tr>\n",
       "    <tr>\n",
       "      <th>4</th>\n",
       "      <td>2010-07-06</td>\n",
       "      <td>20.000000</td>\n",
       "      <td>20.00</td>\n",
       "      <td>15.830000</td>\n",
       "      <td>16.110001</td>\n",
       "      <td>16.110001</td>\n",
       "      <td>6866900</td>\n",
       "    </tr>\n",
       "  </tbody>\n",
       "</table>\n",
       "</div>"
      ],
      "text/plain": [
       "         Date       Open   High        Low      Close  Adj Close    Volume\n",
       "0  2010-06-29  19.000000  25.00  17.540001  23.889999  23.889999  18766300\n",
       "1  2010-06-30  25.790001  30.42  23.299999  23.830000  23.830000  17187100\n",
       "2  2010-07-01  25.000000  25.92  20.270000  21.959999  21.959999   8218800\n",
       "3  2010-07-02  23.000000  23.10  18.709999  19.200001  19.200001   5139800\n",
       "4  2010-07-06  20.000000  20.00  15.830000  16.110001  16.110001   6866900"
      ]
     },
     "execution_count": 3,
     "metadata": {},
     "output_type": "execute_result"
    }
   ],
   "source": [
    "data.head()"
   ]
  },
  {
   "cell_type": "code",
   "execution_count": 5,
   "id": "82b79c3e",
   "metadata": {},
   "outputs": [],
   "source": [
    "data[\"Date\"] = pd.to_datetime(data.Date)"
   ]
  },
  {
   "cell_type": "code",
   "execution_count": 6,
   "id": "2d942792",
   "metadata": {},
   "outputs": [
    {
     "data": {
      "text/plain": [
       "(2416, 7)"
      ]
     },
     "execution_count": 6,
     "metadata": {},
     "output_type": "execute_result"
    }
   ],
   "source": [
    "data.shape"
   ]
  },
  {
   "cell_type": "code",
   "execution_count": 8,
   "id": "5e59e0d0",
   "metadata": {},
   "outputs": [],
   "source": [
    " data.drop(\"Adj Close\",axis=1,inplace = True )"
   ]
  },
  {
   "cell_type": "code",
   "execution_count": 9,
   "id": "af8faa38",
   "metadata": {},
   "outputs": [
    {
     "data": {
      "text/html": [
       "<div>\n",
       "<style scoped>\n",
       "    .dataframe tbody tr th:only-of-type {\n",
       "        vertical-align: middle;\n",
       "    }\n",
       "\n",
       "    .dataframe tbody tr th {\n",
       "        vertical-align: top;\n",
       "    }\n",
       "\n",
       "    .dataframe thead th {\n",
       "        text-align: right;\n",
       "    }\n",
       "</style>\n",
       "<table border=\"1\" class=\"dataframe\">\n",
       "  <thead>\n",
       "    <tr style=\"text-align: right;\">\n",
       "      <th></th>\n",
       "      <th>Date</th>\n",
       "      <th>Open</th>\n",
       "      <th>High</th>\n",
       "      <th>Low</th>\n",
       "      <th>Close</th>\n",
       "      <th>Volume</th>\n",
       "    </tr>\n",
       "  </thead>\n",
       "  <tbody>\n",
       "    <tr>\n",
       "      <th>0</th>\n",
       "      <td>2010-06-29</td>\n",
       "      <td>19.000000</td>\n",
       "      <td>25.00</td>\n",
       "      <td>17.540001</td>\n",
       "      <td>23.889999</td>\n",
       "      <td>18766300</td>\n",
       "    </tr>\n",
       "    <tr>\n",
       "      <th>1</th>\n",
       "      <td>2010-06-30</td>\n",
       "      <td>25.790001</td>\n",
       "      <td>30.42</td>\n",
       "      <td>23.299999</td>\n",
       "      <td>23.830000</td>\n",
       "      <td>17187100</td>\n",
       "    </tr>\n",
       "    <tr>\n",
       "      <th>2</th>\n",
       "      <td>2010-07-01</td>\n",
       "      <td>25.000000</td>\n",
       "      <td>25.92</td>\n",
       "      <td>20.270000</td>\n",
       "      <td>21.959999</td>\n",
       "      <td>8218800</td>\n",
       "    </tr>\n",
       "    <tr>\n",
       "      <th>3</th>\n",
       "      <td>2010-07-02</td>\n",
       "      <td>23.000000</td>\n",
       "      <td>23.10</td>\n",
       "      <td>18.709999</td>\n",
       "      <td>19.200001</td>\n",
       "      <td>5139800</td>\n",
       "    </tr>\n",
       "    <tr>\n",
       "      <th>4</th>\n",
       "      <td>2010-07-06</td>\n",
       "      <td>20.000000</td>\n",
       "      <td>20.00</td>\n",
       "      <td>15.830000</td>\n",
       "      <td>16.110001</td>\n",
       "      <td>6866900</td>\n",
       "    </tr>\n",
       "  </tbody>\n",
       "</table>\n",
       "</div>"
      ],
      "text/plain": [
       "        Date       Open   High        Low      Close    Volume\n",
       "0 2010-06-29  19.000000  25.00  17.540001  23.889999  18766300\n",
       "1 2010-06-30  25.790001  30.42  23.299999  23.830000  17187100\n",
       "2 2010-07-01  25.000000  25.92  20.270000  21.959999   8218800\n",
       "3 2010-07-02  23.000000  23.10  18.709999  19.200001   5139800\n",
       "4 2010-07-06  20.000000  20.00  15.830000  16.110001   6866900"
      ]
     },
     "execution_count": 9,
     "metadata": {},
     "output_type": "execute_result"
    }
   ],
   "source": [
    "data.head()"
   ]
  },
  {
   "cell_type": "code",
   "execution_count": 11,
   "id": "38cbe4bb",
   "metadata": {},
   "outputs": [
    {
     "data": {
      "text/plain": [
       "<bound method NDFrame.tail of            Date        Open        High         Low       Close    Volume\n",
       "0    2010-06-29   19.000000   25.000000   17.540001   23.889999  18766300\n",
       "1    2010-06-30   25.790001   30.420000   23.299999   23.830000  17187100\n",
       "2    2010-07-01   25.000000   25.920000   20.270000   21.959999   8218800\n",
       "3    2010-07-02   23.000000   23.100000   18.709999   19.200001   5139800\n",
       "4    2010-07-06   20.000000   20.000000   15.830000   16.110001   6866900\n",
       "...         ...         ...         ...         ...         ...       ...\n",
       "2411 2020-01-28  568.489990  576.809998  558.080017  566.900024  11788500\n",
       "2412 2020-01-29  575.690002  589.799988  567.429993  580.989990  17801500\n",
       "2413 2020-01-30  632.419983  650.880005  618.000000  640.809998  29005700\n",
       "2414 2020-01-31  640.000000  653.000000  632.520020  650.570007  15719300\n",
       "2415 2020-02-03  673.690002  786.140015  673.520020  780.000000  47065000\n",
       "\n",
       "[2416 rows x 6 columns]>"
      ]
     },
     "execution_count": 11,
     "metadata": {},
     "output_type": "execute_result"
    }
   ],
   "source": [
    "data.tail"
   ]
  },
  {
   "cell_type": "code",
   "execution_count": 12,
   "id": "ee7d09ad",
   "metadata": {},
   "outputs": [
    {
     "data": {
      "text/plain": [
       "Date      0\n",
       "Open      0\n",
       "High      0\n",
       "Low       0\n",
       "Close     0\n",
       "Volume    0\n",
       "dtype: int64"
      ]
     },
     "execution_count": 12,
     "metadata": {},
     "output_type": "execute_result"
    }
   ],
   "source": [
    "data.isnull().sum()"
   ]
  },
  {
   "cell_type": "code",
   "execution_count": 14,
   "id": "6fc58ff2",
   "metadata": {},
   "outputs": [
    {
     "data": {
      "text/plain": [
       "Date      False\n",
       "Open      False\n",
       "High      False\n",
       "Low       False\n",
       "Close     False\n",
       "Volume    False\n",
       "dtype: bool"
      ]
     },
     "execution_count": 14,
     "metadata": {},
     "output_type": "execute_result"
    }
   ],
   "source": [
    "data.isna().any()"
   ]
  },
  {
   "cell_type": "code",
   "execution_count": 15,
   "id": "974997f7",
   "metadata": {},
   "outputs": [
    {
     "name": "stdout",
     "output_type": "stream",
     "text": [
      "<class 'pandas.core.frame.DataFrame'>\n",
      "RangeIndex: 2416 entries, 0 to 2415\n",
      "Data columns (total 6 columns):\n",
      " #   Column  Non-Null Count  Dtype         \n",
      "---  ------  --------------  -----         \n",
      " 0   Date    2416 non-null   datetime64[ns]\n",
      " 1   Open    2416 non-null   float64       \n",
      " 2   High    2416 non-null   float64       \n",
      " 3   Low     2416 non-null   float64       \n",
      " 4   Close   2416 non-null   float64       \n",
      " 5   Volume  2416 non-null   int64         \n",
      "dtypes: datetime64[ns](1), float64(4), int64(1)\n",
      "memory usage: 113.4 KB\n"
     ]
    }
   ],
   "source": [
    "data.info()"
   ]
  },
  {
   "cell_type": "code",
   "execution_count": 16,
   "id": "a84f3299",
   "metadata": {},
   "outputs": [
    {
     "data": {
      "text/html": [
       "<div>\n",
       "<style scoped>\n",
       "    .dataframe tbody tr th:only-of-type {\n",
       "        vertical-align: middle;\n",
       "    }\n",
       "\n",
       "    .dataframe tbody tr th {\n",
       "        vertical-align: top;\n",
       "    }\n",
       "\n",
       "    .dataframe thead th {\n",
       "        text-align: right;\n",
       "    }\n",
       "</style>\n",
       "<table border=\"1\" class=\"dataframe\">\n",
       "  <thead>\n",
       "    <tr style=\"text-align: right;\">\n",
       "      <th></th>\n",
       "      <th>Open</th>\n",
       "      <th>High</th>\n",
       "      <th>Low</th>\n",
       "      <th>Close</th>\n",
       "      <th>Volume</th>\n",
       "    </tr>\n",
       "  </thead>\n",
       "  <tbody>\n",
       "    <tr>\n",
       "      <th>count</th>\n",
       "      <td>2416.000000</td>\n",
       "      <td>2416.000000</td>\n",
       "      <td>2416.000000</td>\n",
       "      <td>2416.000000</td>\n",
       "      <td>2.416000e+03</td>\n",
       "    </tr>\n",
       "    <tr>\n",
       "      <th>mean</th>\n",
       "      <td>186.271147</td>\n",
       "      <td>189.578224</td>\n",
       "      <td>182.916639</td>\n",
       "      <td>186.403651</td>\n",
       "      <td>5.572722e+06</td>\n",
       "    </tr>\n",
       "    <tr>\n",
       "      <th>std</th>\n",
       "      <td>118.740163</td>\n",
       "      <td>120.892329</td>\n",
       "      <td>116.857591</td>\n",
       "      <td>119.136020</td>\n",
       "      <td>4.987809e+06</td>\n",
       "    </tr>\n",
       "    <tr>\n",
       "      <th>min</th>\n",
       "      <td>16.139999</td>\n",
       "      <td>16.629999</td>\n",
       "      <td>14.980000</td>\n",
       "      <td>15.800000</td>\n",
       "      <td>1.185000e+05</td>\n",
       "    </tr>\n",
       "    <tr>\n",
       "      <th>25%</th>\n",
       "      <td>34.342498</td>\n",
       "      <td>34.897501</td>\n",
       "      <td>33.587501</td>\n",
       "      <td>34.400002</td>\n",
       "      <td>1.899275e+06</td>\n",
       "    </tr>\n",
       "    <tr>\n",
       "      <th>50%</th>\n",
       "      <td>213.035004</td>\n",
       "      <td>216.745002</td>\n",
       "      <td>208.870002</td>\n",
       "      <td>212.960007</td>\n",
       "      <td>4.578400e+06</td>\n",
       "    </tr>\n",
       "    <tr>\n",
       "      <th>75%</th>\n",
       "      <td>266.450012</td>\n",
       "      <td>270.927513</td>\n",
       "      <td>262.102501</td>\n",
       "      <td>266.774994</td>\n",
       "      <td>7.361150e+06</td>\n",
       "    </tr>\n",
       "    <tr>\n",
       "      <th>max</th>\n",
       "      <td>673.690002</td>\n",
       "      <td>786.140015</td>\n",
       "      <td>673.520020</td>\n",
       "      <td>780.000000</td>\n",
       "      <td>4.706500e+07</td>\n",
       "    </tr>\n",
       "  </tbody>\n",
       "</table>\n",
       "</div>"
      ],
      "text/plain": [
       "              Open         High          Low        Close        Volume\n",
       "count  2416.000000  2416.000000  2416.000000  2416.000000  2.416000e+03\n",
       "mean    186.271147   189.578224   182.916639   186.403651  5.572722e+06\n",
       "std     118.740163   120.892329   116.857591   119.136020  4.987809e+06\n",
       "min      16.139999    16.629999    14.980000    15.800000  1.185000e+05\n",
       "25%      34.342498    34.897501    33.587501    34.400002  1.899275e+06\n",
       "50%     213.035004   216.745002   208.870002   212.960007  4.578400e+06\n",
       "75%     266.450012   270.927513   262.102501   266.774994  7.361150e+06\n",
       "max     673.690002   786.140015   673.520020   780.000000  4.706500e+07"
      ]
     },
     "execution_count": 16,
     "metadata": {},
     "output_type": "execute_result"
    }
   ],
   "source": [
    "data.describe()"
   ]
  },
  {
   "cell_type": "code",
   "execution_count": 17,
   "id": "a72d5e64",
   "metadata": {},
   "outputs": [
    {
     "name": "stdout",
     "output_type": "stream",
     "text": [
      "2416\n"
     ]
    }
   ],
   "source": [
    "print(len(data))"
   ]
  },
  {
   "cell_type": "code",
   "execution_count": 21,
   "id": "d729a49f",
   "metadata": {},
   "outputs": [
    {
     "data": {
      "text/plain": [
       "<AxesSubplot:>"
      ]
     },
     "execution_count": 21,
     "metadata": {},
     "output_type": "execute_result"
    },
    {
     "data": {
      "image/png": "[encoded data removed]",
      "text/plain": [
       "<Figure size 1080x360 with 1 Axes>"
      ]
     },
     "metadata": {
      "needs_background": "light"
     },
     "output_type": "display_data"
    }
   ],
   "source": [
    "data['Open'].plot(figsize=(15,5))"
   ]
  },
  {
   "cell_type": "code",
   "execution_count": 22,
   "id": "50aba9b2",
   "metadata": {},
   "outputs": [],
   "source": [
    "x = data[['Open','High','Low','Volume']]\n",
    "y = data['Close']"
   ]
  },
  {
   "cell_type": "code",
   "execution_count": 26,
   "id": "3d31de66",
   "metadata": {},
   "outputs": [],
   "source": [
    "from sklearn.model_selection import train_test_split\n",
    "x_train, x_test, y_train,y_test = train_test_split(x,y, random_state = 0)"
   ]
  },
  {
   "cell_type": "code",
   "execution_count": 28,
   "id": "36212d85",
   "metadata": {},
   "outputs": [
    {
     "data": {
      "text/plain": [
       "(1812, 4)"
      ]
     },
     "execution_count": 28,
     "metadata": {},
     "output_type": "execute_result"
    }
   ],
   "source": [
    "x_train.shape"
   ]
  },
  {
   "cell_type": "code",
   "execution_count": 29,
   "id": "a5985657",
   "metadata": {},
   "outputs": [
    {
     "data": {
      "text/plain": [
       "(604, 4)"
      ]
     },
     "execution_count": 29,
     "metadata": {},
     "output_type": "execute_result"
    }
   ],
   "source": [
    "x_test.shape"
   ]
  },
  {
   "cell_type": "code",
   "execution_count": 30,
   "id": "822c4997",
   "metadata": {},
   "outputs": [],
   "source": [
    "from sklearn.linear_model import LinearRegression\n",
    "from sklearn.metrics import confusion_matrix,accuracy_score\n",
    "regressor = LinearRegression()"
   ]
  },
  {
   "cell_type": "code",
   "execution_count": 31,
   "id": "4e216254",
   "metadata": {},
   "outputs": [
    {
     "data": {
      "text/plain": [
       "LinearRegression()"
      ]
     },
     "execution_count": 31,
     "metadata": {},
     "output_type": "execute_result"
    }
   ],
   "source": [
    "regressor.fit(x_train,y_train)"
   ]
  },
  {
   "cell_type": "code",
   "execution_count": 32,
   "id": "2f59783f",
   "metadata": {},
   "outputs": [
    {
     "data": {
      "text/plain": [
       "array([-6.39634305e-01,  9.11543017e-01,  7.26604894e-01, -1.55475449e-08])"
      ]
     },
     "execution_count": 32,
     "metadata": {},
     "output_type": "execute_result"
    }
   ],
   "source": [
    "regressor.coef_"
   ]
  },
  {
   "cell_type": "code",
   "execution_count": 33,
   "id": "6eeba82e",
   "metadata": {},
   "outputs": [],
   "source": [
    "predict = regressor.predict(x_test)"
   ]
  },
  {
   "cell_type": "code",
   "execution_count": 35,
   "id": "c33e03ea",
   "metadata": {},
   "outputs": [
    {
     "name": "stdout",
     "output_type": "stream",
     "text": [
      "            Open        High         Low    Volume\n",
      "966   207.080002  214.020004  205.690002   5439900\n",
      "557    27.900000   28.580000   27.799999   1145200\n",
      "148    24.879999   24.879999   23.750000   1048400\n",
      "1917  343.309998  348.619995  314.600006  10314600\n",
      "1585  200.500000  200.899994  197.050003   2494600\n",
      "...          ...         ...         ...       ...\n",
      "1636  214.880005  222.250000  214.419998   5915700\n",
      "1948  307.339996  307.589996  291.359985   8375200\n",
      "2348  297.720001  330.000000  296.109985  30006100\n",
      "1190  198.500000  200.500000  197.470001   2631600\n",
      "359    32.490002   33.070000   31.629999    591100\n",
      "\n",
      "[604 rows x 4 columns]\n"
     ]
    }
   ],
   "source": [
    "print(x_test)"
   ]
  },
  {
   "cell_type": "code",
   "execution_count": 36,
   "id": "2a4d6baf",
   "metadata": {},
   "outputs": [
    {
     "data": {
      "text/plain": [
       "(604,)"
      ]
     },
     "execution_count": 36,
     "metadata": {},
     "output_type": "execute_result"
    }
   ],
   "source": [
    "predict.shape"
   ]
  },
  {
   "cell_type": "code",
   "execution_count": 37,
   "id": "b38a81ea",
   "metadata": {},
   "outputs": [],
   "source": [
    "dframe=pd.DataFrame(y_test,predict)"
   ]
  },
  {
   "cell_type": "code",
   "execution_count": 39,
   "id": "75a79dc8",
   "metadata": {},
   "outputs": [],
   "source": [
    "df=pd.DataFrame({\"Actual price\":y_test,\"predict price\":predict})"
   ]
  },
  {
   "cell_type": "code",
   "execution_count": 40,
   "id": "e1112d79",
   "metadata": {},
   "outputs": [
    {
     "data": {
      "text/html": [
       "<div>\n",
       "<style scoped>\n",
       "    .dataframe tbody tr th:only-of-type {\n",
       "        vertical-align: middle;\n",
       "    }\n",
       "\n",
       "    .dataframe tbody tr th {\n",
       "        vertical-align: top;\n",
       "    }\n",
       "\n",
       "    .dataframe thead th {\n",
       "        text-align: right;\n",
       "    }\n",
       "</style>\n",
       "<table border=\"1\" class=\"dataframe\">\n",
       "  <thead>\n",
       "    <tr style=\"text-align: right;\">\n",
       "      <th></th>\n",
       "      <th>Actual price</th>\n",
       "      <th>predict price</th>\n",
       "    </tr>\n",
       "  </thead>\n",
       "  <tbody>\n",
       "    <tr>\n",
       "      <th>966</th>\n",
       "      <td>207.729996</td>\n",
       "      <td>211.941303</td>\n",
       "    </tr>\n",
       "    <tr>\n",
       "      <th>557</th>\n",
       "      <td>28.280001</td>\n",
       "      <td>28.325464</td>\n",
       "    </tr>\n",
       "    <tr>\n",
       "      <th>148</th>\n",
       "      <td>24.010000</td>\n",
       "      <td>23.943206</td>\n",
       "    </tr>\n",
       "    <tr>\n",
       "      <th>1917</th>\n",
       "      <td>315.230011</td>\n",
       "      <td>326.556359</td>\n",
       "    </tr>\n",
       "    <tr>\n",
       "      <th>1585</th>\n",
       "      <td>200.240005</td>\n",
       "      <td>197.958571</td>\n",
       "    </tr>\n",
       "    <tr>\n",
       "      <th>...</th>\n",
       "      <td>...</td>\n",
       "      <td>...</td>\n",
       "    </tr>\n",
       "    <tr>\n",
       "      <th>1636</th>\n",
       "      <td>219.529999</td>\n",
       "      <td>220.790009</td>\n",
       "    </tr>\n",
       "    <tr>\n",
       "      <th>1948</th>\n",
       "      <td>304.179993</td>\n",
       "      <td>295.307237</td>\n",
       "    </tr>\n",
       "    <tr>\n",
       "      <th>2348</th>\n",
       "      <td>328.130005</td>\n",
       "      <td>325.003264</td>\n",
       "    </tr>\n",
       "    <tr>\n",
       "      <th>1190</th>\n",
       "      <td>199.630005</td>\n",
       "      <td>199.176271</td>\n",
       "    </tr>\n",
       "    <tr>\n",
       "      <th>359</th>\n",
       "      <td>31.750000</td>\n",
       "      <td>32.273881</td>\n",
       "    </tr>\n",
       "  </tbody>\n",
       "</table>\n",
       "<p>604 rows × 2 columns</p>\n",
       "</div>"
      ],
      "text/plain": [
       "      Actual price  predict price\n",
       "966     207.729996     211.941303\n",
       "557      28.280001      28.325464\n",
       "148      24.010000      23.943206\n",
       "1917    315.230011     326.556359\n",
       "1585    200.240005     197.958571\n",
       "...            ...            ...\n",
       "1636    219.529999     220.790009\n",
       "1948    304.179993     295.307237\n",
       "2348    328.130005     325.003264\n",
       "1190    199.630005     199.176271\n",
       "359      31.750000      32.273881\n",
       "\n",
       "[604 rows x 2 columns]"
      ]
     },
     "execution_count": 40,
     "metadata": {},
     "output_type": "execute_result"
    }
   ],
   "source": [
    "df"
   ]
  },
  {
   "cell_type": "code",
   "execution_count": 41,
   "id": "4948ff6b",
   "metadata": {},
   "outputs": [
    {
     "data": {
      "text/html": [
       "<div>\n",
       "<style scoped>\n",
       "    .dataframe tbody tr th:only-of-type {\n",
       "        vertical-align: middle;\n",
       "    }\n",
       "\n",
       "    .dataframe tbody tr th {\n",
       "        vertical-align: top;\n",
       "    }\n",
       "\n",
       "    .dataframe thead th {\n",
       "        text-align: right;\n",
       "    }\n",
       "</style>\n",
       "<table border=\"1\" class=\"dataframe\">\n",
       "  <thead>\n",
       "    <tr style=\"text-align: right;\">\n",
       "      <th></th>\n",
       "      <th>Actual price</th>\n",
       "      <th>predict price</th>\n",
       "    </tr>\n",
       "  </thead>\n",
       "  <tbody>\n",
       "    <tr>\n",
       "      <th>966</th>\n",
       "      <td>207.729996</td>\n",
       "      <td>211.941303</td>\n",
       "    </tr>\n",
       "    <tr>\n",
       "      <th>557</th>\n",
       "      <td>28.280001</td>\n",
       "      <td>28.325464</td>\n",
       "    </tr>\n",
       "    <tr>\n",
       "      <th>148</th>\n",
       "      <td>24.010000</td>\n",
       "      <td>23.943206</td>\n",
       "    </tr>\n",
       "    <tr>\n",
       "      <th>1917</th>\n",
       "      <td>315.230011</td>\n",
       "      <td>326.556359</td>\n",
       "    </tr>\n",
       "    <tr>\n",
       "      <th>1585</th>\n",
       "      <td>200.240005</td>\n",
       "      <td>197.958571</td>\n",
       "    </tr>\n",
       "    <tr>\n",
       "      <th>985</th>\n",
       "      <td>210.240005</td>\n",
       "      <td>209.816491</td>\n",
       "    </tr>\n",
       "    <tr>\n",
       "      <th>215</th>\n",
       "      <td>26.440001</td>\n",
       "      <td>26.548544</td>\n",
       "    </tr>\n",
       "  </tbody>\n",
       "</table>\n",
       "</div>"
      ],
      "text/plain": [
       "      Actual price  predict price\n",
       "966     207.729996     211.941303\n",
       "557      28.280001      28.325464\n",
       "148      24.010000      23.943206\n",
       "1917    315.230011     326.556359\n",
       "1585    200.240005     197.958571\n",
       "985     210.240005     209.816491\n",
       "215      26.440001      26.548544"
      ]
     },
     "execution_count": 41,
     "metadata": {},
     "output_type": "execute_result"
    }
   ],
   "source": [
    "df.head(7)"
   ]
  },
  {
   "cell_type": "code",
   "execution_count": 42,
   "id": "6699b031",
   "metadata": {},
   "outputs": [],
   "source": [
    "from sklearn.metrics import confusion_matrix,accuracy_score"
   ]
  },
  {
   "cell_type": "code",
   "execution_count": 43,
   "id": "a44fa1bd",
   "metadata": {},
   "outputs": [
    {
     "data": {
      "text/plain": [
       "0.9996847995137271"
      ]
     },
     "execution_count": 43,
     "metadata": {},
     "output_type": "execute_result"
    }
   ],
   "source": [
    "regressor.score(x_test,y_test)"
   ]
  },
  {
   "cell_type": "code",
   "execution_count": 44,
   "id": "ff3f0ff3",
   "metadata": {},
   "outputs": [],
   "source": [
    "import math"
   ]
  },
  {
   "cell_type": "code",
   "execution_count": 45,
   "id": "b3b51ff7",
   "metadata": {},
   "outputs": [
    {
     "name": "stdout",
     "output_type": "stream",
     "text": [
      "Mean Absolute Error: 1.395890589507113\n"
     ]
    }
   ],
   "source": [
    "print('Mean Absolute Error:',metrics.mean_absolute_error(y_test,predict))"
   ]
  },
  {
   "cell_type": "code",
   "execution_count": 47,
   "id": "4bb7ba5f",
   "metadata": {},
   "outputs": [
    {
     "name": "stdout",
     "output_type": "stream",
     "text": [
      "Root Mean Squared Error: 2.1026781249550646\n"
     ]
    }
   ],
   "source": [
    "print('Root Mean Squared Error:',math.sqrt(metrics.mean_squared_error(y_test,predict)))"
   ]
  },
  {
   "cell_type": "code",
   "execution_count": 50,
   "id": "4c831297",
   "metadata": {},
   "outputs": [
    {
     "name": "stdout",
     "output_type": "stream",
     "text": [
      "Mean Squared Error: 4.421255297164546\n"
     ]
    }
   ],
   "source": [
    "print('Mean Squared Error:',metrics.mean_squared_error(y_test,predict))"
   ]
  },
  {
   "cell_type": "code",
   "execution_count": 48,
   "id": "de16d0b7",
   "metadata": {},
   "outputs": [],
   "source": [
    "graph=df.head(7)"
   ]
  },
  {
   "cell_type": "code",
   "execution_count": 49,
   "id": "8fa91eee",
   "metadata": {},
   "outputs": [
    {
     "data": {
      "text/plain": [
       "<AxesSubplot:>"
      ]
     },
     "execution_count": 49,
     "metadata": {},
     "output_type": "execute_result"
    },
    {
     "data": {
      "image/png": "[encoded data removed]",
      "text/plain": [
       "<Figure size 432x288 with 1 Axes>"
      ]
     },
     "metadata": {
      "needs_background": "light"
     },
     "output_type": "display_data"
    }
   ],
   "source": [
    "graph.plot(kind='bar')"
   ]
  },
  {
   "cell_type": "code",
   "execution_count": 51,
   "id": "d59b095e",
   "metadata": {},
   "outputs": [
    {
     "data": {
      "text/html": [
       "<div>\n",
       "<style scoped>\n",
       "    .dataframe tbody tr th:only-of-type {\n",
       "        vertical-align: middle;\n",
       "    }\n",
       "\n",
       "    .dataframe tbody tr th {\n",
       "        vertical-align: top;\n",
       "    }\n",
       "\n",
       "    .dataframe thead th {\n",
       "        text-align: right;\n",
       "    }\n",
       "</style>\n",
       "<table border=\"1\" class=\"dataframe\">\n",
       "  <thead>\n",
       "    <tr style=\"text-align: right;\">\n",
       "      <th></th>\n",
       "      <th>Open</th>\n",
       "      <th>High</th>\n",
       "      <th>Low</th>\n",
       "      <th>Volume</th>\n",
       "    </tr>\n",
       "  </thead>\n",
       "  <tbody>\n",
       "    <tr>\n",
       "      <th>369</th>\n",
       "      <td>30.570000</td>\n",
       "      <td>30.930000</td>\n",
       "      <td>28.910000</td>\n",
       "      <td>994100</td>\n",
       "    </tr>\n",
       "    <tr>\n",
       "      <th>309</th>\n",
       "      <td>24.950001</td>\n",
       "      <td>25.809999</td>\n",
       "      <td>23.820000</td>\n",
       "      <td>1157400</td>\n",
       "    </tr>\n",
       "    <tr>\n",
       "      <th>1070</th>\n",
       "      <td>244.000000</td>\n",
       "      <td>248.639999</td>\n",
       "      <td>241.380005</td>\n",
       "      <td>4852700</td>\n",
       "    </tr>\n",
       "    <tr>\n",
       "      <th>1807</th>\n",
       "      <td>353.549988</td>\n",
       "      <td>358.440002</td>\n",
       "      <td>352.820007</td>\n",
       "      <td>4072800</td>\n",
       "    </tr>\n",
       "    <tr>\n",
       "      <th>1819</th>\n",
       "      <td>380.000000</td>\n",
       "      <td>382.390015</td>\n",
       "      <td>373.570007</td>\n",
       "      <td>6451900</td>\n",
       "    </tr>\n",
       "    <tr>\n",
       "      <th>1732</th>\n",
       "      <td>317.589996</td>\n",
       "      <td>320.059998</td>\n",
       "      <td>315.140015</td>\n",
       "      <td>4152500</td>\n",
       "    </tr>\n",
       "    <tr>\n",
       "      <th>1203</th>\n",
       "      <td>209.850006</td>\n",
       "      <td>211.649994</td>\n",
       "      <td>209.000000</td>\n",
       "      <td>4067700</td>\n",
       "    </tr>\n",
       "  </tbody>\n",
       "</table>\n",
       "</div>"
      ],
      "text/plain": [
       "            Open        High         Low   Volume\n",
       "369    30.570000   30.930000   28.910000   994100\n",
       "309    24.950001   25.809999   23.820000  1157400\n",
       "1070  244.000000  248.639999  241.380005  4852700\n",
       "1807  353.549988  358.440002  352.820007  4072800\n",
       "1819  380.000000  382.390015  373.570007  6451900\n",
       "1732  317.589996  320.059998  315.140015  4152500\n",
       "1203  209.850006  211.649994  209.000000  4067700"
      ]
     },
     "execution_count": 51,
     "metadata": {},
     "output_type": "execute_result"
    }
   ],
   "source": [
    "x_train.head(7)"
   ]
  },
  {
   "cell_type": "markdown",
   "id": "a80e7211",
   "metadata": {},
   "source": [
    "5 Glimpses of output"
   ]
  },
  {
   "cell_type": "code",
   "execution_count": 54,
   "id": "b6886a44",
   "metadata": {},
   "outputs": [],
   "source": [
    "predict=x_train.iloc[369]"
   ]
  },
  {
   "cell_type": "code",
   "execution_count": 55,
   "id": "0eb3a534",
   "metadata": {},
   "outputs": [
    {
     "data": {
      "text/plain": [
       "Open      1.938700e+02\n",
       "High      1.941200e+02\n",
       "Low       1.870400e+02\n",
       "Volume    4.503200e+06\n",
       "Name: 1147, dtype: float64"
      ]
     },
     "execution_count": 55,
     "metadata": {},
     "output_type": "execute_result"
    }
   ],
   "source": [
    "predict"
   ]
  },
  {
   "cell_type": "code",
   "execution_count": 57,
   "id": "c14fba32",
   "metadata": {},
   "outputs": [],
   "source": [
    "stockmarket1= np.array([predict])"
   ]
  },
  {
   "cell_type": "code",
   "execution_count": 58,
   "id": "b3eb1f7d",
   "metadata": {},
   "outputs": [
    {
     "data": {
      "text/plain": [
       "array([[1.93869995e+02, 1.94119995e+02, 1.87039993e+02, 4.50320000e+06]])"
      ]
     },
     "execution_count": 58,
     "metadata": {},
     "output_type": "execute_result"
    }
   ],
   "source": [
    "stockmarket1"
   ]
  },
  {
   "cell_type": "code",
   "execution_count": 60,
   "id": "405ca30b",
   "metadata": {},
   "outputs": [
    {
     "name": "stderr",
     "output_type": "stream",
     "text": [
      "C:\\ProgramData\\Anaconda3\\lib\\site-packages\\sklearn\\base.py:450: UserWarning: X does not have valid feature names, but LinearRegression was fitted with feature names\n",
      "  warnings.warn(\n"
     ]
    },
    {
     "data": {
      "text/plain": [
       "array([188.71453824])"
      ]
     },
     "execution_count": 60,
     "metadata": {},
     "output_type": "execute_result"
    }
   ],
   "source": [
    "regressor.predict(stockmarket1)"
   ]
  },
  {
   "cell_type": "code",
   "execution_count": 61,
   "id": "d4213c11",
   "metadata": {},
   "outputs": [],
   "source": [
    "predict=x_train.iloc[309]"
   ]
  },
  {
   "cell_type": "code",
   "execution_count": 62,
   "id": "0a0679a2",
   "metadata": {},
   "outputs": [
    {
     "data": {
      "text/plain": [
       "Open      1.895500e+02\n",
       "High      1.986800e+02\n",
       "Low       1.895100e+02\n",
       "Volume    4.153000e+06\n",
       "Name: 1148, dtype: float64"
      ]
     },
     "execution_count": 62,
     "metadata": {},
     "output_type": "execute_result"
    }
   ],
   "source": [
    "predict"
   ]
  },
  {
   "cell_type": "code",
   "execution_count": 63,
   "id": "4108114c",
   "metadata": {},
   "outputs": [],
   "source": [
    "stockmarket2= np.array([predict])"
   ]
  },
  {
   "cell_type": "code",
   "execution_count": 64,
   "id": "75f1d1e9",
   "metadata": {},
   "outputs": [
    {
     "data": {
      "text/plain": [
       "array([[1.89550003e+02, 1.98679993e+02, 1.89509995e+02, 4.15300000e+06]])"
      ]
     },
     "execution_count": 64,
     "metadata": {},
     "output_type": "execute_result"
    }
   ],
   "source": [
    "stockmarket2"
   ]
  },
  {
   "cell_type": "code",
   "execution_count": 65,
   "id": "8bea1294",
   "metadata": {},
   "outputs": [
    {
     "name": "stderr",
     "output_type": "stream",
     "text": [
      "C:\\ProgramData\\Anaconda3\\lib\\site-packages\\sklearn\\base.py:450: UserWarning: X does not have valid feature names, but LinearRegression was fitted with feature names\n",
      "  warnings.warn(\n"
     ]
    },
    {
     "data": {
      "text/plain": [
       "array([197.43454795])"
      ]
     },
     "execution_count": 65,
     "metadata": {},
     "output_type": "execute_result"
    }
   ],
   "source": [
    "regressor.predict(stockmarket2)"
   ]
  },
  {
   "cell_type": "code",
   "execution_count": 66,
   "id": "a60f99ae",
   "metadata": {},
   "outputs": [],
   "source": [
    "predict=x_train.iloc[1070]"
   ]
  },
  {
   "cell_type": "code",
   "execution_count": 67,
   "id": "7bce0b1f",
   "metadata": {},
   "outputs": [
    {
     "data": {
      "text/plain": [
       "Open          27.799999\n",
       "High          27.799999\n",
       "Low           27.450001\n",
       "Volume    577700.000000\n",
       "Name: 588, dtype: float64"
      ]
     },
     "execution_count": 67,
     "metadata": {},
     "output_type": "execute_result"
    }
   ],
   "source": [
    "predict"
   ]
  },
  {
   "cell_type": "code",
   "execution_count": 68,
   "id": "4dd2272d",
   "metadata": {},
   "outputs": [],
   "source": [
    "stockmarket3=np.array([predict])"
   ]
  },
  {
   "cell_type": "code",
   "execution_count": 69,
   "id": "432780ee",
   "metadata": {},
   "outputs": [
    {
     "data": {
      "text/plain": [
       "array([[2.7799999e+01, 2.7799999e+01, 2.7450001e+01, 5.7770000e+05]])"
      ]
     },
     "execution_count": 69,
     "metadata": {},
     "output_type": "execute_result"
    }
   ],
   "source": [
    "stockmarket3"
   ]
  },
  {
   "cell_type": "code",
   "execution_count": 70,
   "id": "dfb4fc6c",
   "metadata": {},
   "outputs": [],
   "source": [
    "predict=x_train.iloc[1807]"
   ]
  },
  {
   "cell_type": "code",
   "execution_count": 71,
   "id": "ba4527db",
   "metadata": {},
   "outputs": [
    {
     "data": {
      "text/plain": [
       "Open      2.389000e+02\n",
       "High      2.514200e+02\n",
       "Low       2.385800e+02\n",
       "Volume    9.249300e+06\n",
       "Name: 1033, dtype: float64"
      ]
     },
     "execution_count": 71,
     "metadata": {},
     "output_type": "execute_result"
    }
   ],
   "source": [
    "predict"
   ]
  },
  {
   "cell_type": "code",
   "execution_count": 72,
   "id": "7d5b5488",
   "metadata": {},
   "outputs": [],
   "source": [
    "stockmarket4=np.array([predict])"
   ]
  },
  {
   "cell_type": "code",
   "execution_count": 73,
   "id": "d20a818f",
   "metadata": {},
   "outputs": [
    {
     "data": {
      "text/plain": [
       "array([[2.38899994e+02, 2.51419998e+02, 2.38580002e+02, 9.24930000e+06]])"
      ]
     },
     "execution_count": 73,
     "metadata": {},
     "output_type": "execute_result"
    }
   ],
   "source": [
    "stockmarket4"
   ]
  },
  {
   "cell_type": "code",
   "execution_count": 76,
   "id": "1556fdbb",
   "metadata": {},
   "outputs": [],
   "source": [
    "predict=x_train.iloc[1732]"
   ]
  },
  {
   "cell_type": "code",
   "execution_count": 77,
   "id": "b6bab076",
   "metadata": {},
   "outputs": [
    {
     "data": {
      "text/plain": [
       "Open      2.082200e+02\n",
       "High      2.099900e+02\n",
       "Low       2.065000e+02\n",
       "Volume    3.111100e+06\n",
       "Name: 1634, dtype: float64"
      ]
     },
     "execution_count": 77,
     "metadata": {},
     "output_type": "execute_result"
    }
   ],
   "source": [
    "predict"
   ]
  },
  {
   "cell_type": "code",
   "execution_count": 78,
   "id": "cb97341f",
   "metadata": {},
   "outputs": [],
   "source": [
    "stockmarket5=np.array([predict])"
   ]
  },
  {
   "cell_type": "code",
   "execution_count": 79,
   "id": "04153ae9",
   "metadata": {},
   "outputs": [
    {
     "data": {
      "text/plain": [
       "array([[2.08220001e+02, 2.09990005e+02, 2.06500000e+02, 3.11110000e+06]])"
      ]
     },
     "execution_count": 79,
     "metadata": {},
     "output_type": "execute_result"
    }
   ],
   "source": [
    "stockmarket5"
   ]
  },
  {
   "cell_type": "code",
   "execution_count": null,
   "id": "aafed76d",
   "metadata": {},
   "outputs": [],
   "source": []
  }
 ],
 "metadata": {
  "kernelspec": {
   "display_name": "Python 3 (ipykernel)",
   "language": "python",
   "name": "python3"
  },
  "language_info": {
   "codemirror_mode": {
    "name": "ipython",
    "version": 3
   },
   "file_extension": ".py",
   "mimetype": "text/x-python",
   "name": "python",
   "nbconvert_exporter": "python",
   "pygments_lexer": "ipython3",
   "version": "3.9.12"
  }
 },
 "nbformat": 4,
 "nbformat_minor": 5
}
